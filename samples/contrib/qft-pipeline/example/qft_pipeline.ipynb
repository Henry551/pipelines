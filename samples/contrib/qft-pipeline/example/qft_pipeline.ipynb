{
 "cells": [
  {
   "cell_type": "code",
   "execution_count": null,
   "metadata": {},
   "outputs": [],
   "source": [
    "from kfp import dsl\n",
    "\n",
    "@dsl.component(base_image=\"python:3.11.7\", packages_to_install=['qiskit-aer', 'qiskit==0.46.0', 'pylatexenc', 'ipywidgets', 'matplotlib'])\n",
    "\n",
    "\n",
    "\n",
    "\n",
    "def qft(n: int):\n",
    "    from qiskit import QuantumRegister, QuantumCircuit\n",
    "    from math import pi\n",
    "    from qiskit.visualization import circuit_drawer\n",
    "    import matplotlib.pyplot as plt\n",
    "    from PIL import Image\n",
    "    import io\n",
    "    \n",
    "\n",
    "    from qiskit.quantum_info import Statevector\n",
    "    ar = QuantumRegister(n,'a')\n",
    "    qc = QuantumCircuit(ar)\n",
    "    for hbit in range(n-1,-1,-1):\n",
    "        qc.h(hbit) \n",
    "    for cbit in range(hbit):\n",
    "        qc.cp(pi/2**(hbit-cbit), cbit, hbit)  \n",
    "    for bit in range(n//2):\n",
    "        qc.swap(bit,n-bit-1)  \n",
    "    \n",
    "    fig = plt.figure(figsize=(8, 6))\n",
    "    ax = fig.add_subplot(111)\n",
    "    circuit_drawer(qc, output='mpl', ax=ax)\n",
    "    \n",
    "    # 保存圖片\n",
    "    plt.savefig('quantum_circuit.png', format='png')\n",
    "    plt.close()\n",
    "\n",
    "@dsl.pipeline\n",
    "def qft_pipeline(num: int):\n",
    "    #qftPlusIqft_task = qftPlusIqft(n=num)\n",
    "    qft_task = qft(n=num)\n",
    "    #return qftPlusIqft_task.output\n",
    "    \n",
    "\n",
    "from kfp import compiler\n",
    "\n",
    "#compiler.Compiler().compile(qftPlusIqft_pipeline, 'pipeline2.yaml')\n",
    "compiler.Compiler().compile(qft_pipeline, 'qft-pipeline.yaml')"
   ]
  }
 ],
 "metadata": {
  "language_info": {
   "name": "python"
  }
 },
 "nbformat": 4,
 "nbformat_minor": 2
}
