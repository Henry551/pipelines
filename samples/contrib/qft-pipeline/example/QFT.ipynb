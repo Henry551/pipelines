{
 "cells": [
  {
   "cell_type": "markdown",
   "metadata": {},
   "source": [
    "## Installation"
   ]
  },
  {
   "cell_type": "code",
   "execution_count": null,
   "metadata": {},
   "outputs": [],
   "source": [
    "pip install qiskit==0.46.0\n",
    "pip install qiskit ipywidgets\n",
    "pip install pylatexenc"
   ]
  },
  {
   "cell_type": "markdown",
   "metadata": {},
   "source": [
    "## Define funciton to build n-qubit QFT quantum circuit"
   ]
  },
  {
   "cell_type": "code",
   "execution_count": null,
   "metadata": {},
   "outputs": [],
   "source": [
    "from qiskit import QuantumRegister, QuantumCircuit\n",
    "from math import pi\n",
    "def qft(n):\n",
    "  ar = QuantumRegister(n,'a')\n",
    "  qc = QuantumCircuit(ar)\n",
    "  for hbit in range(n-1,-1,-1):\n",
    "    qc.h(hbit) \n",
    "    for cbit in range(hbit):\n",
    "      qc.cp(pi/2**(hbit-cbit), cbit, hbit)  \n",
    "  for bit in range(n//2):\n",
    "    qc.swap(bit,n-bit-1)  \n",
    "  return qc  \n",
    "\n",
    "print(type(qft(5).draw('mpl')))\n",
    "print(type(qft(5)))\n",
    "\n",
    "for i in range(1,5):\n",
    "  print('Below is the QFT circuit of',i,'qubit(s):') \n",
    "  display(qft(i).draw('mpl'))"
   ]
  }
 ],
 "metadata": {
  "language_info": {
   "name": "python"
  }
 },
 "nbformat": 4,
 "nbformat_minor": 2
}
